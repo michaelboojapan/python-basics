{
 "cells": [
  {
   "cell_type": "code",
   "execution_count": 1,
   "metadata": {},
   "outputs": [],
   "source": [
    "my_tuple = (0, 1,2,3,4)"
   ]
  },
  {
   "cell_type": "code",
   "execution_count": 6,
   "metadata": {},
   "outputs": [],
   "source": [
    "i1, *i2, i3 = my_tuple"
   ]
  },
  {
   "cell_type": "code",
   "execution_count": 7,
   "metadata": {},
   "outputs": [
    {
     "data": {
      "text/plain": [
       "[1, 2, 3]"
      ]
     },
     "execution_count": 7,
     "metadata": {},
     "output_type": "execute_result"
    }
   ],
   "source": [
    "i2"
   ]
  },
  {
   "cell_type": "code",
   "execution_count": 12,
   "metadata": {},
   "outputs": [],
   "source": [
    "import sys\n",
    "import numpy as np"
   ]
  },
  {
   "cell_type": "code",
   "execution_count": 32,
   "metadata": {},
   "outputs": [],
   "source": [
    "my_list = [0,1,2,'Hello', True]\n",
    "my_tuple = (0,1,2,'Hello', True)\n",
    "my_set = {0,1,2,'Hello', True}\n",
    "my_np_list = np.array([0,1,2,'Hello', True])"
   ]
  },
  {
   "cell_type": "code",
   "execution_count": 33,
   "metadata": {},
   "outputs": [
    {
     "name": "stdout",
     "output_type": "stream",
     "text": [
      "96\n",
      "80\n",
      "216\n",
      "84\n"
     ]
    }
   ],
   "source": [
    "print(sys.getsizeof(my_list))\n",
    "print(sys.getsizeof(my_tuple))\n",
    "print(sys.getsizeof(my_set))\n",
    "print(my_np_list.itemsize)"
   ]
  },
  {
   "cell_type": "code",
   "execution_count": 34,
   "metadata": {},
   "outputs": [],
   "source": [
    "my_list = [0,1,2,3,4]\n",
    "my_tuple = (0,1,2,3,4)\n",
    "my_set = {0,1,2,3,4}\n",
    "my_np_list = np.array([0,1,2,3,4])"
   ]
  },
  {
   "cell_type": "code",
   "execution_count": 35,
   "metadata": {},
   "outputs": [
    {
     "name": "stdout",
     "output_type": "stream",
     "text": [
      "96\n",
      "80\n",
      "728\n",
      "8\n"
     ]
    }
   ],
   "source": [
    "print(sys.getsizeof(my_list))\n",
    "print(sys.getsizeof(my_tuple))\n",
    "print(sys.getsizeof(my_set))\n",
    "print(my_np_list.itemsize)"
   ]
  },
  {
   "cell_type": "code",
   "execution_count": 41,
   "metadata": {},
   "outputs": [],
   "source": [
    "my_list = [\"a\",\"b\",\"c\"]\n",
    "my_tuple = (\"a\",\"b\",\"c\")\n",
    "my_set = {\"a\",\"b\",\"c\"}\n",
    "my_set_f = frozenset(my_list)\n",
    "my_np_list = np.array([\"a\",\"b\",\"c\"])"
   ]
  },
  {
   "cell_type": "code",
   "execution_count": 42,
   "metadata": {},
   "outputs": [
    {
     "name": "stdout",
     "output_type": "stream",
     "text": [
      "80\n",
      "64\n",
      "216\n",
      "216\n",
      "4\n"
     ]
    }
   ],
   "source": [
    "print(sys.getsizeof(my_list))\n",
    "print(sys.getsizeof(my_tuple))\n",
    "print(sys.getsizeof(my_set))\n",
    "print(sys.getsizeof(my_set_f))\n",
    "print(my_np_list.itemsize)"
   ]
  },
  {
   "cell_type": "code",
   "execution_count": 38,
   "metadata": {},
   "outputs": [
    {
     "data": {
      "text/plain": [
       "set"
      ]
     },
     "execution_count": 38,
     "metadata": {},
     "output_type": "execute_result"
    }
   ],
   "source": [
    "type(my_set)"
   ]
  },
  {
   "cell_type": "code",
   "execution_count": 43,
   "metadata": {},
   "outputs": [
    {
     "ename": "SyntaxError",
     "evalue": "invalid character in identifier (<ipython-input-43-622b829cbf25>, line 1)",
     "output_type": "error",
     "traceback": [
      "\u001b[0;36m  File \u001b[0;32m\"<ipython-input-43-622b829cbf25>\"\u001b[0;36m, line \u001b[0;32m1\u001b[0m\n\u001b[0;31m    我是个蒙古族，三十出头，纯牧民的儿子，现在远离故乡在大都市，我哥现在也是个纯牧民。\u001b[0m\n\u001b[0m                                            ^\u001b[0m\n\u001b[0;31mSyntaxError\u001b[0m\u001b[0;31m:\u001b[0m invalid character in identifier\n"
     ]
    }
   ],
   "source": [
    "我是个蒙古族，三十出头，纯牧民的儿子，现在远离故乡在大都市，我哥现在也是个纯牧民。\n",
    "我大概知道这部电影在讲什么，心理也是有起伏。这部电影不敢看，最怕的是难过，如果说为我的民族难过可能有些不自量力。\n",
    "我可能会跑题，作为一个准爸爸，我其实最担心的是蒙古族孩子们，在偏远的草原，在交通，知识，信息闭塞的地方长大都无法融入这个世界，未来更没有竞争力，孩子们都是家人，民族和国家的未来。\n",
    "我们会不舍草原的辽阔，天空的蓝，水的清，人的淳朴，牛羊和家犬们的可爱。生活在内蒙固然也是平静，简单，满足。但是想要一个饱满点儿的人生，希望看清人生意义的人，我会建议走出草原，蒙古孩子请好好读书，走出大草原，向汉人学习，向外国人学习，向世界学习。\n",
    "无论到哪儿，心中的草原都在，有一天我们还是可以回到故乡，但是蒙古孩子们，在你的黄金岁月里行万里，读万卷书，看清自己，找到自己人生意义才是不枉此生。\n"
   ]
  },
  {
   "cell_type": "code",
   "execution_count": null,
   "metadata": {},
   "outputs": [],
   "source": [
    "print(sys.getsizeof(my_list))\n",
    "print(sys.getsizeof(my_tuple))\n",
    "print(sys.getsizeof(my_set))\n",
    "print(sys.getsizeof(my_set_f))\n",
    "print(my_np_list.itemsize)"
   ]
  },
  {
   "cell_type": "code",
   "execution_count": null,
   "metadata": {},
   "outputs": [],
   "source": []
  },
  {
   "cell_type": "code",
   "execution_count": null,
   "metadata": {},
   "outputs": [],
   "source": []
  },
  {
   "cell_type": "code",
   "execution_count": null,
   "metadata": {},
   "outputs": [],
   "source": []
  }
 ],
 "metadata": {
  "kernelspec": {
   "display_name": "Python 3",
   "language": "python",
   "name": "python3"
  },
  "language_info": {
   "codemirror_mode": {
    "name": "ipython",
    "version": 3
   },
   "file_extension": ".py",
   "mimetype": "text/x-python",
   "name": "python",
   "nbconvert_exporter": "python",
   "pygments_lexer": "ipython3",
   "version": "3.8.5"
  }
 },
 "nbformat": 4,
 "nbformat_minor": 4
}
